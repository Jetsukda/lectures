{
 "cells": [
  {
   "cell_type": "markdown",
   "metadata": {},
   "source": [
    "# Advanced Python\n",
    "In this lecture we look at a lot of language features that make Python special compared to other programming languages. "
   ]
  },
  {
   "cell_type": "code",
   "execution_count": 1,
   "metadata": {},
   "outputs": [],
   "source": [
    "import sys\n",
    "sys.path.append(\"..\")\n",
    "from utils import count_down"
   ]
  },
  {
   "cell_type": "markdown",
   "metadata": {},
   "source": [
    "# The Python Data Model\n",
    "Under the hood, most Python syntax is just *syntatic sugar* for method calls. If you know the methods that are implicitly called by the common syntax you can design objects that beautifully integrate with the language."
   ]
  },
  {
   "cell_type": "code",
   "execution_count": 2,
   "metadata": {},
   "outputs": [
    {
     "data": {
      "text/plain": [
       "6"
      ]
     },
     "execution_count": 2,
     "metadata": {},
     "output_type": "execute_result"
    }
   ],
   "source": [
    "3 + 3 "
   ]
  },
  {
   "cell_type": "markdown",
   "metadata": {},
   "source": [
    "is in fact doing "
   ]
  },
  {
   "cell_type": "code",
   "execution_count": 3,
   "metadata": {},
   "outputs": [
    {
     "data": {
      "text/plain": [
       "6"
      ]
     },
     "execution_count": 3,
     "metadata": {},
     "output_type": "execute_result"
    }
   ],
   "source": [
    "(3).__add__(3)"
   ]
  },
  {
   "cell_type": "markdown",
   "metadata": {},
   "source": [
    "Let's find out how we can make objects that behave nicely with the rest of the language. As an example we look at a class for representing triples of numeric values."
   ]
  },
  {
   "cell_type": "code",
   "execution_count": 4,
   "metadata": {},
   "outputs": [],
   "source": [
    "class Triple:\n",
    "    def __init__(self, num1, num2, num3):\n",
    "        self.nums = num1, num2, num3"
   ]
  },
  {
   "cell_type": "code",
   "execution_count": 5,
   "metadata": {},
   "outputs": [
    {
     "data": {
      "text/plain": [
       "<__main__.Triple at 0x7f1714417550>"
      ]
     },
     "execution_count": 5,
     "metadata": {},
     "output_type": "execute_result"
    }
   ],
   "source": [
    "Triple(1, 2, 3)"
   ]
  },
  {
   "cell_type": "markdown",
   "metadata": {},
   "source": [
    "The string representation of our class is not really informative. We can fix this by implementing `__repr__`."
   ]
  },
  {
   "cell_type": "code",
   "execution_count": 6,
   "metadata": {},
   "outputs": [
    {
     "data": {
      "text/plain": [
       "Triple(1, 2, 3)"
      ]
     },
     "execution_count": 6,
     "metadata": {},
     "output_type": "execute_result"
    }
   ],
   "source": [
    "class Triple:\n",
    "    def __init__(self, num1, num2, num3):\n",
    "        self.nums = num1, num2, num3\n",
    "        \n",
    "    def __repr__(self):\n",
    "        \"\"\"A string representation for inspecting objects at runtime.\"\"\"\n",
    "        return \"Triple(\" + str(self.nums[0]) + \", \" + str(self.nums[1]) + \", \" + str(self.nums[2]) + \")\"\n",
    "    \n",
    "Triple(1, 2, 3)"
   ]
  },
  {
   "cell_type": "markdown",
   "metadata": {},
   "source": [
    "To make addition between `Triple`s possible, we have to implement `__add__`. We define the addition `Triple`s just as the elementwise addition of the three numbers.  "
   ]
  },
  {
   "cell_type": "code",
   "execution_count": 7,
   "metadata": {},
   "outputs": [],
   "source": [
    "class Triple:\n",
    "    def __init__(self, num1, num2, num3):\n",
    "        self.nums = num1, num2, num3\n",
    "        \n",
    "    def __repr__(self):\n",
    "        \"\"\"A string representation for inspecting objects at runtime.\"\"\"\n",
    "        return \"Triple(\" + str(self.nums[0]) + \", \" + str(self.nums[1]) + \", \" + str(self.nums[2]) + \")\"\n",
    "    \n",
    "    def __add__(self, other):\n",
    "        num1 = self.nums[0] + other.nums[0]\n",
    "        num2 = self.nums[1] + other.nums[1]\n",
    "        num3 = self.nums[2] + other.nums[2]\n",
    "        return Triple(num1, num2, num3)\n",
    "        \n",
    "    \n",
    "a = Triple(1, 2, 3)\n",
    "b = Triple(2, 3, 4)"
   ]
  },
  {
   "cell_type": "markdown",
   "metadata": {},
   "source": [
    "Because we implemented `__add__` we can add triples with the plus operator.\n",
    "The following three expressions are all the same! The first one is the fast way to write it, which \n",
    "internally maps to the second, which internally maps to the third!\n"
   ]
  },
  {
   "cell_type": "code",
   "execution_count": 8,
   "metadata": {},
   "outputs": [
    {
     "name": "stdout",
     "output_type": "stream",
     "text": [
      "Triple(3, 5, 7)\n",
      "Triple(3, 5, 7)\n",
      "Triple(3, 5, 7)\n"
     ]
    }
   ],
   "source": [
    "print(a + b)\n",
    "print(a.__add__(b))\n",
    "print(Triple.__add__(a, b))"
   ]
  },
  {
   "cell_type": "markdown",
   "metadata": {},
   "source": [
    "Now it would be nice to enable addition between triples and scalar numbers by just elementwise adding the scalar to all three triple values. But the expression"
   ]
  },
  {
   "cell_type": "code",
   "execution_count": 9,
   "metadata": {},
   "outputs": [
    {
     "ename": "TypeError",
     "evalue": "unsupported operand type(s) for +: 'int' and 'Triple'",
     "output_type": "error",
     "traceback": [
      "\u001b[0;31m---------------------------------------------------------------------------\u001b[0m",
      "\u001b[0;31mTypeError\u001b[0m                                 Traceback (most recent call last)",
      "\u001b[0;32m<ipython-input-9-0d1dd5c80c6a>\u001b[0m in \u001b[0;36m<module>\u001b[0;34m\u001b[0m\n\u001b[0;32m----> 1\u001b[0;31m \u001b[0;36m1\u001b[0m \u001b[0;34m+\u001b[0m \u001b[0mTriple\u001b[0m\u001b[0;34m(\u001b[0m\u001b[0;36m1\u001b[0m\u001b[0;34m,\u001b[0m \u001b[0;36m2\u001b[0m\u001b[0;34m,\u001b[0m \u001b[0;36m3\u001b[0m\u001b[0;34m)\u001b[0m\u001b[0;34m\u001b[0m\u001b[0;34m\u001b[0m\u001b[0m\n\u001b[0m",
      "\u001b[0;31mTypeError\u001b[0m: unsupported operand type(s) for +: 'int' and 'Triple'"
     ]
    }
   ],
   "source": [
    "1 + Triple(1, 2, 3)"
   ]
  },
  {
   "cell_type": "markdown",
   "metadata": {},
   "source": [
    "is interpreted as "
   ]
  },
  {
   "cell_type": "code",
   "execution_count": 10,
   "metadata": {},
   "outputs": [
    {
     "data": {
      "text/plain": [
       "NotImplemented"
      ]
     },
     "execution_count": 10,
     "metadata": {},
     "output_type": "execute_result"
    }
   ],
   "source": [
    "int.__add__(1, Triple(1, 2, 3))"
   ]
  },
  {
   "cell_type": "markdown",
   "metadata": {},
   "source": [
    "which return the special value `NotImplemented`. If a binary operaton does not work when called on the first operand does not work, Python tries to invert the order of operands, calling `__radd__` on the other. If this does not work either a `TypeError` is raised. By implementing `__radd__` we can make scalar addition work without changing the behaivor of the `int`s."
   ]
  },
  {
   "cell_type": "code",
   "execution_count": 11,
   "metadata": {},
   "outputs": [],
   "source": [
    "class Triple:\n",
    "    def __init__(self, num1, num2, num3):\n",
    "        self.nums = num1, num2, num3\n",
    "        \n",
    "    def __repr__(self):\n",
    "        \"\"\"A string representation for inspecting objects at runtime.\"\"\"\n",
    "        return \"Triple(\" + str(self.nums[0]) + \", \" + str(self.nums[1]) + \", \" + str(self.nums[2]) + \")\"\n",
    "    \n",
    "    def __add__(self, other):\n",
    "        num1 = self.nums[0] + other.nums[0]\n",
    "        num2 = self.nums[1] + other.nums[1]\n",
    "        num3 = self.nums[2] + other.nums[2]\n",
    "        return Triple(num1, num2, num3)\n",
    "    \n",
    "    def __radd__(self, other):\n",
    "        num1 = self.nums[0] + other\n",
    "        num2 = self.nums[1] + other\n",
    "        num3 = self.nums[2] + other\n",
    "        return Triple(num1, num2, num3)"
   ]
  },
  {
   "cell_type": "code",
   "execution_count": 12,
   "metadata": {},
   "outputs": [
    {
     "data": {
      "text/plain": [
       "Triple(2, 3, 4)"
      ]
     },
     "execution_count": 12,
     "metadata": {},
     "output_type": "execute_result"
    }
   ],
   "source": [
    "1 + Triple(1, 2, 3)"
   ]
  },
  {
   "cell_type": "markdown",
   "metadata": {},
   "source": [
    "## Exercise\n",
    "Make the `in` operator work on our triples. For that we need to implement `__contains__`. The statement \n",
    "```python \n",
    "3 in Triple(1, 2, 3)\n",
    "```\n",
    "\n",
    "should become `True` after defining `__contains__`."
   ]
  },
  {
   "cell_type": "code",
   "execution_count": 13,
   "metadata": {
    "cell_type": "solution"
   },
   "outputs": [],
   "source": [
    "class Triple:\n",
    "    def __init__(self, num1, num2, num3):\n",
    "        self.nums = num1, num2, num3\n",
    "        \n",
    "    def __repr__(self):\n",
    "        \"\"\"A string representation for inspecting objects at runtime.\"\"\"\n",
    "        return \"Triple(\" + str(self.nums[0]) + \", \" + str(self.nums[1]) + \", \" + str(self.nums[2]) + \")\"\n",
    "    \n",
    "    def __contains__(self, item):\n",
    "        return item in self.nums"
   ]
  },
  {
   "cell_type": "code",
   "execution_count": 14,
   "metadata": {},
   "outputs": [
    {
     "data": {
      "text/plain": [
       "True"
      ]
     },
     "execution_count": 14,
     "metadata": {},
     "output_type": "execute_result"
    }
   ],
   "source": [
    "3 in Triple(1, 2, 3)"
   ]
  },
  {
   "cell_type": "markdown",
   "metadata": {},
   "source": [
    "You can read more about Python's data model at https://docs.python.org/3/reference/datamodel.html."
   ]
  },
  {
   "cell_type": "markdown",
   "metadata": {},
   "source": [
    "# Iterables and Iterators\n",
    "Objects that can be used in `for ... in ...` statements are called *iterable*."
   ]
  },
  {
   "cell_type": "code",
   "execution_count": 15,
   "metadata": {},
   "outputs": [
    {
     "name": "stdout",
     "output_type": "stream",
     "text": [
      "1\n",
      "2\n",
      "3\n"
     ]
    }
   ],
   "source": [
    "class Triple:\n",
    "    def __init__(self, num1, num2, num3):\n",
    "        self.nums = num1, num2, num3\n",
    "    \n",
    "    def __repr__(self):\n",
    "        \"\"\"A string representation for inspecting objects at runtime.\"\"\"\n",
    "        return \"Triple(\" + str(self.nums[0]) + \", \" + str(self.nums[1]) + \", \" + str(self.nums[2]) + \")\"\n",
    "    \n",
    "    def __iter__(self):\n",
    "        return iter(self.nums)\n",
    "    \n",
    "my_triple = Triple(1, 2, 3)\n",
    "\n",
    "\n",
    "for value in my_triple:\n",
    "    print(value)\n"
   ]
  },
  {
   "cell_type": "markdown",
   "metadata": {},
   "source": [
    "The `__iter__` - magic-method is what makes an object iterable. Behind the scenes, the `iter`-function calls this methods to get the iterator."
   ]
  },
  {
   "cell_type": "markdown",
   "metadata": {},
   "source": [
    "An *iterator* is an object that implements `__next__`. Usually, you want to make an iterator also iterable by returning itself from `__iter__`. Here an example of how to create your own `range`-function:"
   ]
  },
  {
   "cell_type": "code",
   "execution_count": 16,
   "metadata": {},
   "outputs": [],
   "source": [
    "class myrange:\n",
    "    def __init__(self, n):\n",
    "        self.i = 0\n",
    "        self.n = n\n",
    "\n",
    "    def __iter__(self):\n",
    "        return self\n",
    "\n",
    "    def __next__(self):\n",
    "        if self.i < self.n:\n",
    "            self.i += 1\n",
    "            return self.i\n",
    "        else:\n",
    "            raise StopIteration()"
   ]
  },
  {
   "cell_type": "code",
   "execution_count": 17,
   "metadata": {},
   "outputs": [
    {
     "name": "stdout",
     "output_type": "stream",
     "text": [
      "1\n",
      "2\n",
      "3\n",
      "4\n",
      "5\n"
     ]
    }
   ],
   "source": [
    "for i in myrange(5):\n",
    "    print(i)"
   ]
  },
  {
   "cell_type": "markdown",
   "metadata": {},
   "source": [
    "Python relies heavily on iterators, and you should use them everytime Python offers them! the following code would be considered *unpythonic*."
   ]
  },
  {
   "cell_type": "code",
   "execution_count": 18,
   "metadata": {},
   "outputs": [
    {
     "name": "stdout",
     "output_type": "stream",
     "text": [
      "10\n",
      "20\n",
      "30\n"
     ]
    }
   ],
   "source": [
    "a_list = [10, 20, 30]\n",
    "for i in range(len(a_list)):\n",
    "    print(a_list[i])"
   ]
  },
  {
   "cell_type": "markdown",
   "metadata": {},
   "source": [
    "Instead we prefer using the iterator directly."
   ]
  },
  {
   "cell_type": "code",
   "execution_count": 19,
   "metadata": {},
   "outputs": [
    {
     "name": "stdout",
     "output_type": "stream",
     "text": [
      "10\n",
      "20\n",
      "30\n"
     ]
    }
   ],
   "source": [
    "a_list = [10, 20, 30]\n",
    "for number in a_list:\n",
    "    print(number)"
   ]
  },
  {
   "cell_type": "markdown",
   "metadata": {},
   "source": [
    "# Properties\n",
    "Other languages often define *getters* and *setters* to restrict access to object attributes. In Python we can add getter and setter logic using `properties`."
   ]
  },
  {
   "cell_type": "code",
   "execution_count": 20,
   "metadata": {},
   "outputs": [
    {
     "data": {
      "text/plain": [
       "(1, 2, 3)"
      ]
     },
     "execution_count": 20,
     "metadata": {},
     "output_type": "execute_result"
    }
   ],
   "source": [
    "class Triple():\n",
    "    def __init__(self, num1, num2, num3):\n",
    "        self._nums = num1, num2, num3\n",
    "      \n",
    "    @property\n",
    "    def nums(self):\n",
    "        return self._nums\n",
    "\n",
    "    \n",
    "a = Triple(1, 2, 3)\n",
    "a.nums"
   ]
  },
  {
   "cell_type": "markdown",
   "metadata": {},
   "source": [
    "By default, we can not assign to attributes that are declared via properties. "
   ]
  },
  {
   "cell_type": "code",
   "execution_count": 21,
   "metadata": {},
   "outputs": [
    {
     "ename": "AttributeError",
     "evalue": "can't set attribute",
     "output_type": "error",
     "traceback": [
      "\u001b[0;31m---------------------------------------------------------------------------\u001b[0m",
      "\u001b[0;31mAttributeError\u001b[0m                            Traceback (most recent call last)",
      "\u001b[0;32m<ipython-input-21-960f3f9a1ef9>\u001b[0m in \u001b[0;36m<module>\u001b[0;34m\u001b[0m\n\u001b[0;32m----> 1\u001b[0;31m \u001b[0ma\u001b[0m\u001b[0;34m.\u001b[0m\u001b[0mnums\u001b[0m \u001b[0;34m=\u001b[0m \u001b[0;36m10\u001b[0m\u001b[0;34m,\u001b[0m \u001b[0;36m11\u001b[0m\u001b[0;34m,\u001b[0m \u001b[0;36m12\u001b[0m\u001b[0;34m\u001b[0m\u001b[0;34m\u001b[0m\u001b[0m\n\u001b[0m",
      "\u001b[0;31mAttributeError\u001b[0m: can't set attribute"
     ]
    }
   ],
   "source": [
    "a.nums = 10, 11, 12"
   ]
  },
  {
   "cell_type": "markdown",
   "metadata": {},
   "source": [
    "But we can add a setter with another decorator. This is useful for including validation logic."
   ]
  },
  {
   "cell_type": "code",
   "execution_count": 22,
   "metadata": {},
   "outputs": [
    {
     "data": {
      "text/plain": [
       "(4, 5, 6)"
      ]
     },
     "execution_count": 22,
     "metadata": {},
     "output_type": "execute_result"
    }
   ],
   "source": [
    "class Triple():\n",
    "    def __init__(self, num1, num2, num3):\n",
    "        self._nums = num1, num2, num3\n",
    "      \n",
    "    @property\n",
    "    def nums(self):\n",
    "        return self._nums\n",
    "    \n",
    "    @nums.setter\n",
    "    def nums(self, value):\n",
    "        if len(value) == 3:\n",
    "            self._nums = value\n",
    "        else:\n",
    "            raise ValueError(\"Three values are required to set the data.\")\n",
    "    \n",
    "a = Triple(1, 2, 3)\n",
    "a.nums = (4, 5, 6)\n",
    "a.nums"
   ]
  },
  {
   "cell_type": "markdown",
   "metadata": {},
   "source": [
    "With `properties` we can add getter and setter logic, without having them surface in our objects interfaces. This also means you can start to write \n",
    "your classes with plain attributes and add getters and setters later if required."
   ]
  },
  {
   "cell_type": "markdown",
   "metadata": {},
   "source": [
    "# Factory methods\n",
    "Sometimes we want to be able to initialize our objects in different ways. A classic pattern of object oriented programming\n",
    "is the `Factory`. A `Factory`'s only purpose is to initialize other objects. In Python, we do not really need this\n",
    "pattern, but instead we can use *factory methods* to initialize our object in different ways. For that we can use\n",
    "`classmethods` that take the class instead of the instance as a first argument."
   ]
  },
  {
   "cell_type": "code",
   "execution_count": 23,
   "metadata": {},
   "outputs": [
    {
     "data": {
      "text/plain": [
       "Triple(3, 3, 3)"
      ]
     },
     "execution_count": 23,
     "metadata": {},
     "output_type": "execute_result"
    }
   ],
   "source": [
    "class Triple():\n",
    "    def __init__(self, num1, num2, num3):\n",
    "        self._nums = num1, num2, num3\n",
    "    \n",
    "    def __repr__(self):\n",
    "        \"\"\"A string representation for inspecting objects at runtime.\"\"\"\n",
    "        return \"Triple(\" + str(self.nums[0]) + \", \" + str(self.nums[1]) + \", \" + str(self.nums[2]) + \")\"\n",
    "    \n",
    "    @property\n",
    "    def nums(self):\n",
    "        return self._nums\n",
    "    \n",
    "    @classmethod\n",
    "    def from_value(cls, num):\n",
    "        return cls(num, num, num)\n",
    "\n",
    "Triple.from_value(3)"
   ]
  },
  {
   "cell_type": "markdown",
   "metadata": {},
   "source": [
    "# Generators\n",
    "\n",
    "A Python generator function is a function which returns a generator. Generator functions a implicitly defined by the use of `yield` in the function body. `yield` may be used with a value, in which case that value is treated as the \"generated\" value. The next time `next()` is called on the generator (i.e. in the next step in a for loop, for example), the generator resumes execution from where it called `yield`, not from the beginning of the function. All of the state, like the values of local variables, is recovered and the generator contiues to execute until the next call to `yield`. \n",
    "\n",
    "https://jeffknupp.com/blog/2013/04/07/improve-your-python-yield-and-generators-explained/"
   ]
  },
  {
   "cell_type": "code",
   "execution_count": 24,
   "metadata": {},
   "outputs": [
    {
     "name": "stdout",
     "output_type": "stream",
     "text": [
      "1\n",
      "10\n",
      "3\n",
      "5\n"
     ]
    }
   ],
   "source": [
    "def generate_numbers():\n",
    "    yield 1\n",
    "    yield 10\n",
    "    yield 3\n",
    "    yield 5\n",
    "    \n",
    "for i in generate_numbers():\n",
    "    print(i)"
   ]
  },
  {
   "cell_type": "code",
   "execution_count": 25,
   "metadata": {},
   "outputs": [
    {
     "name": "stdout",
     "output_type": "stream",
     "text": [
      "<generator object generate_numbers at 0x7f1714395a20>\n",
      "1\n",
      "\n",
      "10\n",
      "3\n",
      "5\n"
     ]
    },
    {
     "ename": "StopIteration",
     "evalue": "",
     "output_type": "error",
     "traceback": [
      "\u001b[0;31m---------------------------------------------------------------------------\u001b[0m",
      "\u001b[0;31mStopIteration\u001b[0m                             Traceback (most recent call last)",
      "\u001b[0;32m<ipython-input-25-f0eae2ecc239>\u001b[0m in \u001b[0;36m<module>\u001b[0;34m\u001b[0m\n\u001b[1;32m      8\u001b[0m     \u001b[0mprint\u001b[0m\u001b[0;34m(\u001b[0m\u001b[0mi\u001b[0m\u001b[0;34m)\u001b[0m\u001b[0;34m\u001b[0m\u001b[0;34m\u001b[0m\u001b[0m\n\u001b[1;32m      9\u001b[0m \u001b[0;34m\u001b[0m\u001b[0m\n\u001b[0;32m---> 10\u001b[0;31m \u001b[0mprint\u001b[0m\u001b[0;34m(\u001b[0m\u001b[0mnext\u001b[0m\u001b[0;34m(\u001b[0m\u001b[0ma\u001b[0m\u001b[0;34m)\u001b[0m\u001b[0;34m)\u001b[0m \u001b[0;31m#will throw a StopIteration\u001b[0m\u001b[0;34m\u001b[0m\u001b[0;34m\u001b[0m\u001b[0m\n\u001b[0m",
      "\u001b[0;31mStopIteration\u001b[0m: "
     ]
    }
   ],
   "source": [
    "a = generate_numbers()\n",
    "print(a)\n",
    "\n",
    "print(next(a))\n",
    "print()\n",
    "\n",
    "for i in a:\n",
    "    print(i)\n",
    "    \n",
    "print(next(a)) #will throw a StopIteration"
   ]
  },
  {
   "cell_type": "markdown",
   "metadata": {},
   "source": [
    "When we call a normal Python function, execution starts at function's first line and continues until a return statement, exception, or the end of the function is encountered. \n",
    "Once a function returns control to its caller, any work done by the function and stored in local variables is lost. A new call to the function creates everything from scratch. \n",
    "\n",
    "A **generator** is a certain kind of function (recognized by the keyword *yield* in place of *return*), that doesn't lose its data. If a generator is called, it will run until the next occurence of the `yield` keyword. When called again, it starts right after that, and runs until the next occurence of `yield`.\n",
    "\n",
    "A generator is an iterator, which means you can loop over it, call next(), and use it the way you'd use any other iterator"
   ]
  },
  {
   "cell_type": "code",
   "execution_count": 26,
   "metadata": {},
   "outputs": [
    {
     "data": {
      "text/plain": [
       "(True, True)"
      ]
     },
     "execution_count": 26,
     "metadata": {},
     "output_type": "execute_result"
    }
   ],
   "source": [
    "hasattr(a, '__iter__'), hasattr(a, '__next__')"
   ]
  },
  {
   "cell_type": "markdown",
   "metadata": {},
   "source": [
    "## Exercise\n",
    "Use a generator ot produce even number infinitely. Then print the first ten even numbers."
   ]
  },
  {
   "cell_type": "markdown",
   "metadata": {
    "cell_type": "hint"
   },
   "source": [
    "Use a `while True` loop to produces number infinitely. Then wrap the generator function in `enumerate` and `break` after the first ten values. "
   ]
  },
  {
   "cell_type": "code",
   "execution_count": 27,
   "metadata": {
    "cell_type": "solution"
   },
   "outputs": [
    {
     "name": "stdout",
     "output_type": "stream",
     "text": [
      "0\n",
      "2\n",
      "4\n",
      "6\n",
      "8\n",
      "10\n",
      "12\n",
      "14\n",
      "16\n",
      "18\n",
      "20\n"
     ]
    }
   ],
   "source": [
    "def even_numbers():\n",
    "    i = 0\n",
    "    while True:\n",
    "        if i % 2 == 0:\n",
    "            yield i\n",
    "        \n",
    "        i += 1\n",
    "\n",
    "for i, num in enumerate(even_numbers()):\n",
    "    print(num)\n",
    "    if i >= 10:\n",
    "        break"
   ]
  },
  {
   "cell_type": "markdown",
   "metadata": {},
   "source": [
    "# Context managers (and IO)\n",
    "Context managers can be seen as conceptual counterpart to functions. While a function presents a chunk of code that is reused in between other operations, a context manager is a chunk of code that is reused *around* other operations."
   ]
  },
  {
   "cell_type": "code",
   "execution_count": 28,
   "metadata": {},
   "outputs": [
    {
     "name": "stdout",
     "output_type": "stream",
     "text": [
      "Entering context.\n",
      "I am inside the context\n",
      "Exiting context.\n"
     ]
    }
   ],
   "source": [
    "class PrintingContext:\n",
    "    \n",
    "    def __enter__(self):\n",
    "        print('Entering context.')\n",
    "    \n",
    "    def __exit__(self, exception_type, exception_value, traceback):\n",
    "        print('Exiting context.')\n",
    "        \n",
    "        \n",
    "with PrintingContext():\n",
    "    print('I am inside the context')"
   ]
  },
  {
   "cell_type": "markdown",
   "metadata": {},
   "source": [
    "## File IO"
   ]
  },
  {
   "cell_type": "markdown",
   "metadata": {},
   "source": [
    "Writing to a file."
   ]
  },
  {
   "cell_type": "code",
   "execution_count": 29,
   "metadata": {},
   "outputs": [],
   "source": [
    "string = \"\"\"hello world!\n",
    "this is chris, and I am writing \n",
    "this message!\n",
    "\"\"\"\n",
    "fh = open('test.txt', 'w') # open needs as arguments the file-path, and a mode (\"r\": read, \"w\": write, \"a\": append, \n",
    "                           #                                                    \"rb\": read binary, \"wb\": write binary, \"a\": append binary) \n",
    "                           # and returns a file-handle we can work with\n",
    "fh.write(string)\n",
    "fh.close()                 # don't forget to close the file afterwards!"
   ]
  },
  {
   "cell_type": "code",
   "execution_count": 30,
   "metadata": {},
   "outputs": [
    {
     "name": "stdout",
     "output_type": "stream",
     "text": [
      "hello world!\n",
      "this is chris, and I am writing \n",
      "this message!\n"
     ]
    }
   ],
   "source": [
    "%%bash\n",
    "cat test.txt"
   ]
  },
  {
   "cell_type": "markdown",
   "metadata": {},
   "source": [
    "Now we can read from the file what we just wrote in there."
   ]
  },
  {
   "cell_type": "code",
   "execution_count": 31,
   "metadata": {},
   "outputs": [
    {
     "name": "stdout",
     "output_type": "stream",
     "text": [
      "hello world!\n",
      "this is chris, and I am writing \n",
      "this message!\n"
     ]
    }
   ],
   "source": [
    "# reading example:\n",
    "fh = open('test.txt', 'r')\n",
    "lines = fh.readlines()\n",
    "\n",
    "for line in lines:\n",
    "    print(line, end='')\n",
    "\n",
    "fh.close()"
   ]
  },
  {
   "cell_type": "markdown",
   "metadata": {},
   "source": [
    "## Better done with context managers\n",
    "Context managers are really useful for handling resources that need to released after they are no longer used. The prototypical example is file IO."
   ]
  },
  {
   "cell_type": "code",
   "execution_count": 32,
   "metadata": {},
   "outputs": [],
   "source": [
    "with open('save_file.txt', mode='w') as file_context:    # __enter__ is called here.\n",
    "    file_context.write('You cannot forget to close me.')\n",
    "# __exit__ is called here."
   ]
  },
  {
   "cell_type": "code",
   "execution_count": 33,
   "metadata": {},
   "outputs": [
    {
     "name": "stdout",
     "output_type": "stream",
     "text": [
      "['You cannot forget to close me.']\n"
     ]
    }
   ],
   "source": [
    "class File():\n",
    "\n",
    "    def __init__(self, filename, mode):\n",
    "        self.filename = filename\n",
    "        self.mode = mode\n",
    "\n",
    "    def __enter__(self):\n",
    "        self.open_file = open(self.filename, self.mode)\n",
    "        return self.open_file\n",
    "\n",
    "    def __exit__(self, *args):\n",
    "        self.open_file.close()\n",
    "\n",
    "with File('save_file.txt', mode='r') as fh:\n",
    "    print(fh.readlines())"
   ]
  },
  {
   "cell_type": "markdown",
   "metadata": {},
   "source": [
    "more info on context managers: https://jeffknupp.com/blog/2016/03/07/python-with-context-managers/"
   ]
  },
  {
   "cell_type": "markdown",
   "metadata": {},
   "source": [
    "# Exceptions"
   ]
  },
  {
   "cell_type": "code",
   "execution_count": 34,
   "metadata": {},
   "outputs": [],
   "source": [
    "import random"
   ]
  },
  {
   "cell_type": "code",
   "execution_count": 35,
   "metadata": {},
   "outputs": [],
   "source": [
    "a = [1, 2, 3] if random.randint(0,1) else 1\n",
    "\n",
    "first_val = a[0] #throws an Exception in 50% of cases"
   ]
  },
  {
   "cell_type": "code",
   "execution_count": 36,
   "metadata": {},
   "outputs": [
    {
     "name": "stdout",
     "output_type": "stream",
     "text": [
      "<class 'TypeError'> 'int' object is not subscriptable\n"
     ]
    }
   ],
   "source": [
    "a = [1, 2, 3] if random.randint(0,1) else 1\n",
    "\n",
    "# we can catch that exception! In Java, this is try-catch, in python it's called try-except\n",
    "try:\n",
    "    first_val = a[0]\n",
    "    print(\"everything worked!\")\n",
    "except Exception as e:\n",
    "    print(type(e), e)"
   ]
  },
  {
   "cell_type": "code",
   "execution_count": 37,
   "metadata": {},
   "outputs": [
    {
     "name": "stdout",
     "output_type": "stream",
     "text": [
      "this will be executed whether the try block throws an error or not\n"
     ]
    }
   ],
   "source": [
    "try:\n",
    "    file_handle = open('test.txt')\n",
    "except FileNotFoundError as err:\n",
    "    print('this will be executed if a FileNotFoundError occurs')\n",
    "    print(err)\n",
    "finally:\n",
    "    print('this will be executed whether the try block throws an error or not')\n",
    "    file_handle.close()\n"
   ]
  },
  {
   "cell_type": "code",
   "execution_count": 38,
   "metadata": {},
   "outputs": [
    {
     "name": "stdout",
     "output_type": "stream",
     "text": [
      "index error\n"
     ]
    }
   ],
   "source": [
    "# Exceptions will go up through functions if unhandled\n",
    "def foo():\n",
    "    try:\n",
    "        [1, 2][3] #this will cause an IndexError, however as it isn't handled here, the error is thrown upward to the caller\n",
    "        open('asdf')\n",
    "    except FileNotFoundError as err:\n",
    "        print('file not found error')\n",
    "\n",
    "try:\n",
    "    foo()\n",
    "    print(\"won't be reached\")\n",
    "except IndexError as err:\n",
    "    print('index error')"
   ]
  },
  {
   "cell_type": "code",
   "execution_count": 39,
   "metadata": {},
   "outputs": [
    {
     "name": "stdout",
     "output_type": "stream",
     "text": [
      "this will run\n"
     ]
    }
   ],
   "source": [
    "# you can catch multiple exceptions in one try-except statement\n",
    "\n",
    "try:\n",
    "    [1,2][3]\n",
    "except Exception:         #it will start chronologically at the first one, looking if this fits....\n",
    "    print(\"this will run\") \n",
    "except IndexError:        #and if it does, it won't execute the others\n",
    "    print(\"this won't..\")\n"
   ]
  },
  {
   "cell_type": "markdown",
   "metadata": {},
   "source": [
    "![exceptions](./errors.png)"
   ]
  },
  {
   "cell_type": "markdown",
   "metadata": {},
   "source": [
    "`try-except` also has an 'else', which runs if no error was thrown."
   ]
  },
  {
   "cell_type": "code",
   "execution_count": 40,
   "metadata": {},
   "outputs": [
    {
     "name": "stdout",
     "output_type": "stream",
     "text": [
      "randval is: 2\n",
      "this will run if randval was 2\n"
     ]
    }
   ],
   "source": [
    "try:\n",
    "    randval = random.randint(0,2)\n",
    "    print(\"randval is:\", randval)\n",
    "    if randval == 0:\n",
    "        [1,2][3]\n",
    "    elif randval == 1:\n",
    "        5/0\n",
    "except IndexError: \n",
    "    print(\"this will run if randval was 0\") \n",
    "except ZeroDivisionError:       \n",
    "    print(\"this will run if randval was 1\")\n",
    "else:\n",
    "    print(\"this will run if randval was 2\")"
   ]
  },
  {
   "cell_type": "code",
   "execution_count": 41,
   "metadata": {},
   "outputs": [
    {
     "name": "stdout",
     "output_type": "stream",
     "text": [
      "True\n"
     ]
    }
   ],
   "source": [
    "# You can even extend Exception yourself, to throw your own errors!\n",
    "\n",
    "class NotTheValueIWantedException(Exception):\n",
    "    pass\n",
    "\n",
    "print(isinstance(NotTheValueIWantedException(), Exception))"
   ]
  },
  {
   "cell_type": "code",
   "execution_count": 42,
   "metadata": {},
   "outputs": [
    {
     "name": "stdout",
     "output_type": "stream",
     "text": [
      "A value it accepted was: 42\n",
      "A value it accepted was: 1337\n"
     ]
    }
   ],
   "source": [
    "def my_method(value):\n",
    "    if value != 42 and value != 1337:\n",
    "        raise NotTheValueIWantedException\n",
    "        \n",
    "for i in range(2000):\n",
    "    try:\n",
    "        my_method(i)\n",
    "        print(\"A value it accepted was:\", i)\n",
    "    except NotTheValueIWantedException:\n",
    "        pass"
   ]
  },
  {
   "cell_type": "markdown",
   "metadata": {},
   "source": [
    "# Decorators\n",
    "Decorators a functions that change the functionality of other functions or classes. This should be usually be done in a transparent manner, i.e. the interface of the original function stays the same, while the functionaliy is added around it."
   ]
  },
  {
   "cell_type": "code",
   "execution_count": 43,
   "metadata": {},
   "outputs": [
    {
     "name": "stdout",
     "output_type": "stream",
     "text": [
      "~~~ result of substract ~~~\n",
      "3\n",
      "~~~~~~~~~~~~~~~~~~~~~~~~~~~\n"
     ]
    },
    {
     "data": {
      "text/plain": [
       "3"
      ]
     },
     "execution_count": 43,
     "metadata": {},
     "output_type": "execute_result"
    }
   ],
   "source": [
    "def substract(x, y):\n",
    "    return x - y\n",
    "\n",
    "def decorated_substract(*args, **kwargs):\n",
    "    result = substract(*args, **kwargs)              \n",
    "    print('~~~ result of', substract.__name__, '~~~')\n",
    "    print(result)                               \n",
    "    print('~~~~~~~~~~~~~~~~~~~~~~~~~~~')        \n",
    "    return result    \n",
    "    \n",
    "decorated_substract(5, 2)"
   ]
  },
  {
   "cell_type": "markdown",
   "metadata": {},
   "source": [
    "This however only creates a new function, containing a changed behaviour of the substract-function. What if we want to change the behaviour of arbitrary functions?"
   ]
  },
  {
   "cell_type": "code",
   "execution_count": 44,
   "metadata": {},
   "outputs": [
    {
     "name": "stdout",
     "output_type": "stream",
     "text": [
      "~~~ result of add ~~~\n",
      "7\n",
      "~~~~~~~~~~~~~~~~~~~~~~~~~~~\n"
     ]
    },
    {
     "data": {
      "text/plain": [
       "7"
      ]
     },
     "execution_count": 44,
     "metadata": {},
     "output_type": "execute_result"
    }
   ],
   "source": [
    "def substract(x, y):\n",
    "    return x - y\n",
    "\n",
    "def add(x, y):\n",
    "    return x + y\n",
    "\n",
    "def decorated(func, *args, **kwargs):\n",
    "    result = func(*args, **kwargs)              \n",
    "    print('~~~ result of', func.__name__, '~~~')\n",
    "    print(result)                               \n",
    "    print('~~~~~~~~~~~~~~~~~~~~~~~~~~~')        \n",
    "    return result    \n",
    "    \n",
    "decorated(add, 5, 2)"
   ]
  },
  {
   "cell_type": "markdown",
   "metadata": {},
   "source": [
    "We're still not okay with this, because we want to change the behaviour of `add` itself!"
   ]
  },
  {
   "cell_type": "code",
   "execution_count": 45,
   "metadata": {},
   "outputs": [],
   "source": [
    "def print_decorator(func):                           # func is the method which will be decorated by this\n",
    "        \n",
    "    print(\"This occurs when we re-define the function\")\n",
    "    \n",
    "    #if we define function = decorated(function), the new function will be this:\n",
    "    \n",
    "    def inner(*args, **kwargs):                      # we define a new function here, taking any parameters...\n",
    "        result = func(*args, **kwargs)               # which, when called, executes the original function with these parameters...\n",
    "        print('~~~ result of', func.__name__, '~~~') # prints name of original funciton...\n",
    "        print(result)                                # prints the result of the function...\n",
    "        print('~~~~~~~~~~~~~~~~~~~~~~~~~~~')         # some lines...\n",
    "        return result                                # and returns that result of that function \n",
    "    \n",
    "    return inner   # the new function is this inner function!"
   ]
  },
  {
   "cell_type": "code",
   "execution_count": 46,
   "metadata": {},
   "outputs": [
    {
     "name": "stdout",
     "output_type": "stream",
     "text": [
      "This occurs when we re-define the function\n"
     ]
    }
   ],
   "source": [
    "decorated_add = print_decorator(add)"
   ]
  },
  {
   "cell_type": "code",
   "execution_count": 47,
   "metadata": {},
   "outputs": [
    {
     "name": "stdout",
     "output_type": "stream",
     "text": [
      "~~~ result of add ~~~\n",
      "8\n",
      "~~~~~~~~~~~~~~~~~~~~~~~~~~~\n"
     ]
    },
    {
     "data": {
      "text/plain": [
       "8"
      ]
     },
     "execution_count": 47,
     "metadata": {},
     "output_type": "execute_result"
    }
   ],
   "source": [
    "decorated_add(3, 5)"
   ]
  },
  {
   "cell_type": "code",
   "execution_count": 48,
   "metadata": {},
   "outputs": [
    {
     "name": "stdout",
     "output_type": "stream",
     "text": [
      "This occurs when we re-define the function\n",
      "~~~ result of add ~~~\n",
      "8\n",
      "~~~~~~~~~~~~~~~~~~~~~~~~~~~\n"
     ]
    },
    {
     "data": {
      "text/plain": [
       "8"
      ]
     },
     "execution_count": 48,
     "metadata": {},
     "output_type": "execute_result"
    }
   ],
   "source": [
    "add = print_decorator(add)\n",
    "add(3,5)"
   ]
  },
  {
   "cell_type": "markdown",
   "metadata": {},
   "source": [
    "Python provides a syntax for the assignment `function = decorated(function)`. This however just *syntactic sugar* for calling the decorator directly. "
   ]
  },
  {
   "cell_type": "code",
   "execution_count": 49,
   "metadata": {},
   "outputs": [
    {
     "name": "stdout",
     "output_type": "stream",
     "text": [
      "This occurs when we re-define the function\n",
      "~~~ result of multiply ~~~\n",
      "15\n",
      "~~~~~~~~~~~~~~~~~~~~~~~~~~~\n",
      "~~~ result of multiply ~~~\n",
      "20\n",
      "~~~~~~~~~~~~~~~~~~~~~~~~~~~\n"
     ]
    },
    {
     "data": {
      "text/plain": [
       "20"
      ]
     },
     "execution_count": 49,
     "metadata": {},
     "output_type": "execute_result"
    }
   ],
   "source": [
    "@print_decorator\n",
    "def multiply(x, y):\n",
    "    return x * y\n",
    "\n",
    "multiply(3, 5)\n",
    "multiply(4, 5)"
   ]
  },
  {
   "cell_type": "markdown",
   "metadata": {},
   "source": [
    "We can even chain decorators!"
   ]
  },
  {
   "cell_type": "code",
   "execution_count": 50,
   "metadata": {},
   "outputs": [
    {
     "data": {
      "text/plain": [
       "'<b><i>hello world</i></b>'"
      ]
     },
     "execution_count": 50,
     "metadata": {},
     "output_type": "execute_result"
    }
   ],
   "source": [
    "def bold(fn):\n",
    "    \"\"\"wraps the result of a function such that it's bold\"\"\"\n",
    "    def wrapped():\n",
    "        return \"<b>\" + fn() + \"</b>\"\n",
    "    return wrapped\n",
    "\n",
    "def italic(fn):\n",
    "    \"\"\"wraps the result of a function such that it's italics\"\"\"\n",
    "    def wrapped():\n",
    "        return \"<i>\" + fn() + \"</i>\"\n",
    "    return wrapped\n",
    "\n",
    "@bold\n",
    "@italic\n",
    "def hello():\n",
    "    \"\"\"prints 'hello world'\"\"\"\n",
    "    return \"hello world\"\n",
    "\n",
    "hello()"
   ]
  },
  {
   "cell_type": "code",
   "execution_count": 51,
   "metadata": {},
   "outputs": [],
   "source": [
    "hello?"
   ]
  },
  {
   "cell_type": "markdown",
   "metadata": {},
   "source": [
    "That's it almost it for basic knowledge of decorators!\n",
    "There's just one important thing: If we replace the original function by the decorated version, we lose all information of the orginal function, as its docstring, information about arguments, etc. To make up for that, we use *another decorator*, namely `functools.wraps`. This simply copies the docstring of the original function to the new one."
   ]
  },
  {
   "cell_type": "code",
   "execution_count": 52,
   "metadata": {},
   "outputs": [
    {
     "data": {
      "text/html": [
       "<b><i>hello world</i></b>"
      ],
      "text/plain": [
       "<IPython.core.display.HTML object>"
      ]
     },
     "execution_count": 52,
     "metadata": {},
     "output_type": "execute_result"
    }
   ],
   "source": [
    "from functools import wraps\n",
    "from IPython.display import HTML\n",
    "\n",
    "def html(fn):\n",
    "    @wraps(fn)\n",
    "    def wrapped():\n",
    "        return HTML(fn())\n",
    "    return wrapped\n",
    "\n",
    "\n",
    "def bold(fn):\n",
    "    @wraps(fn)\n",
    "    def wrapped():\n",
    "        return \"<b>\" + fn() + \"</b>\"\n",
    "    return wrapped\n",
    "\n",
    "def italic(fn):\n",
    "    @wraps(fn)\n",
    "    def wrapped():\n",
    "        return \"<i>\" + fn() + \"</i>\"\n",
    "    return wrapped\n",
    "\n",
    "@html\n",
    "@bold\n",
    "@italic\n",
    "def hello():\n",
    "    \"\"\"prints 'hello world'\"\"\"\n",
    "    return \"hello world\"\n",
    "\n",
    "hello()"
   ]
  },
  {
   "cell_type": "code",
   "execution_count": 53,
   "metadata": {},
   "outputs": [],
   "source": [
    "hello?"
   ]
  },
  {
   "cell_type": "markdown",
   "metadata": {},
   "source": [
    "## Exercise\n",
    "Define and apply a decorator that makes a string appear red. You can achieve this by wrapping the string in `<span style='color: red'> str </span>`"
   ]
  },
  {
   "cell_type": "code",
   "execution_count": 54,
   "metadata": {
    "cell_type": "solution"
   },
   "outputs": [
    {
     "data": {
      "text/html": [
       "<span style='color: red'><b><i>hello world</i></b></span>"
      ],
      "text/plain": [
       "<IPython.core.display.HTML object>"
      ]
     },
     "execution_count": 54,
     "metadata": {},
     "output_type": "execute_result"
    }
   ],
   "source": [
    "def red(fn):\n",
    "    @wraps(fn)\n",
    "    def wrapped():\n",
    "        return \"<span style='color: red'>\" + fn() + \"</span>\"\n",
    "    return wrapped\n",
    "\n",
    "@html\n",
    "@red\n",
    "@bold\n",
    "@italic\n",
    "def hello():\n",
    "    \"\"\"prints 'hello world'\"\"\"\n",
    "    return \"hello world\"\n",
    "\n",
    "hello()"
   ]
  },
  {
   "cell_type": "markdown",
   "metadata": {},
   "source": [
    "# Lambda Expressions\n",
    "\n",
    "Lambda expressions can be used to create \"small\", \"throw-away\", anonymous functions."
   ]
  },
  {
   "cell_type": "code",
   "execution_count": 55,
   "metadata": {},
   "outputs": [
    {
     "data": {
      "text/plain": [
       "(64, function)"
      ]
     },
     "execution_count": 55,
     "metadata": {},
     "output_type": "execute_result"
    }
   ],
   "source": [
    "def square_number(x):\n",
    "    return x**2\n",
    "\n",
    "square_number(8), type(square_number)"
   ]
  },
  {
   "cell_type": "code",
   "execution_count": 56,
   "metadata": {},
   "outputs": [
    {
     "data": {
      "text/plain": [
       "(64, function)"
      ]
     },
     "execution_count": 56,
     "metadata": {},
     "output_type": "execute_result"
    }
   ],
   "source": [
    "square_number = lambda x: x**2\n",
    "\n",
    "square_number(8), type(square_number)"
   ]
  },
  {
   "cell_type": "code",
   "execution_count": 57,
   "metadata": {},
   "outputs": [
    {
     "data": {
      "text/plain": [
       "5"
      ]
     },
     "execution_count": 57,
     "metadata": {},
     "output_type": "execute_result"
    }
   ],
   "source": [
    "calc_sum = lambda x, y: x + y\n",
    "calc_sum(2, 3)"
   ]
  },
  {
   "cell_type": "markdown",
   "metadata": {},
   "source": [
    "## Controlling list operations with lambdas"
   ]
  },
  {
   "cell_type": "code",
   "execution_count": 58,
   "metadata": {},
   "outputs": [
    {
     "name": "stdout",
     "output_type": "stream",
     "text": [
      "[1, 3, 6, 7, 45, 67]\n",
      "[1, 3, 6, 7, 45, 67]\n"
     ]
    }
   ],
   "source": [
    "unsorted_list = [6, 1, 45, 67, 3, 7]\n",
    "\n",
    "# two ways to sort:\n",
    "new_list = sorted(unsorted_list) # creates a new sorted one, old one stays the same\n",
    "unsorted_list.sort()             # sorts in-place, the old one will change\n",
    "\n",
    "print(new_list)\n",
    "print(unsorted_list)"
   ]
  },
  {
   "cell_type": "markdown",
   "metadata": {},
   "source": [
    "Sorting in  descending order."
   ]
  },
  {
   "cell_type": "code",
   "execution_count": 59,
   "metadata": {},
   "outputs": [
    {
     "data": {
      "text/plain": [
       "[67, 45, 7, 6, 3, 1]"
      ]
     },
     "execution_count": 59,
     "metadata": {},
     "output_type": "execute_result"
    }
   ],
   "source": [
    "unsorted_list.sort(reverse=True) \n",
    "unsorted_list"
   ]
  },
  {
   "cell_type": "markdown",
   "metadata": {},
   "source": [
    "Sorting according to specific rules can be done with lambda functions. For example you can sort people by their age."
   ]
  },
  {
   "cell_type": "code",
   "execution_count": 60,
   "metadata": {},
   "outputs": [],
   "source": [
    "people = [\n",
    "    {'name': 'Aaron', 'age': 40},\n",
    "    {'name': 'Berta', 'age': 20},\n",
    "    {'name': 'Chris', 'age': 29},\n",
    "]"
   ]
  },
  {
   "cell_type": "code",
   "execution_count": 61,
   "metadata": {},
   "outputs": [
    {
     "data": {
      "text/plain": [
       "[{'name': 'Berta', 'age': 20},\n",
       " {'name': 'Chris', 'age': 29},\n",
       " {'name': 'Aaron', 'age': 40}]"
      ]
     },
     "execution_count": 61,
     "metadata": {},
     "output_type": "execute_result"
    }
   ],
   "source": [
    "people.sort(key=lambda item: item['age'])\n",
    "people"
   ]
  },
  {
   "cell_type": "markdown",
   "metadata": {},
   "source": [
    "or by their name."
   ]
  },
  {
   "cell_type": "code",
   "execution_count": 62,
   "metadata": {},
   "outputs": [
    {
     "data": {
      "text/plain": [
       "[{'name': 'Aaron', 'age': 40},\n",
       " {'name': 'Berta', 'age': 20},\n",
       " {'name': 'Chris', 'age': 29}]"
      ]
     },
     "execution_count": 62,
     "metadata": {},
     "output_type": "execute_result"
    }
   ],
   "source": [
    "people.sort(key=lambda item: item['name'])\n",
    "people"
   ]
  },
  {
   "cell_type": "markdown",
   "metadata": {},
   "source": [
    "Other functions work similarly, For example you can use the `key` argument to turn `max` into `argmax`."
   ]
  },
  {
   "cell_type": "code",
   "execution_count": 63,
   "metadata": {},
   "outputs": [
    {
     "data": {
      "text/plain": [
       "{'name': 'Aaron', 'age': 40}"
      ]
     },
     "execution_count": 63,
     "metadata": {},
     "output_type": "execute_result"
    }
   ],
   "source": [
    "max(people, key=lambda x: x['age'])"
   ]
  },
  {
   "cell_type": "markdown",
   "metadata": {},
   "source": [
    "## Exercise\n",
    "Use the `min` function with a `key` argument to find the person that comes first in the alphabet."
   ]
  },
  {
   "cell_type": "code",
   "execution_count": 64,
   "metadata": {
    "cell_type": "solution"
   },
   "outputs": [
    {
     "data": {
      "text/plain": [
       "{'name': 'Aaron', 'age': 40}"
      ]
     },
     "execution_count": 64,
     "metadata": {},
     "output_type": "execute_result"
    }
   ],
   "source": [
    "min(people, key=lambda x: x['name'])"
   ]
  },
  {
   "cell_type": "markdown",
   "metadata": {},
   "source": [
    "# Comprehensions\n",
    "Comprehensions are a special syntax that simplify the creation of collections."
   ]
  },
  {
   "cell_type": "markdown",
   "metadata": {},
   "source": [
    "## List comprehension"
   ]
  },
  {
   "cell_type": "markdown",
   "metadata": {},
   "source": [
    "To get a list of of squares from a list of numbers we would usually have to write code like this."
   ]
  },
  {
   "cell_type": "code",
   "execution_count": 65,
   "metadata": {},
   "outputs": [
    {
     "data": {
      "text/plain": [
       "[1, 4, 9, 16, 25]"
      ]
     },
     "execution_count": 65,
     "metadata": {},
     "output_type": "execute_result"
    }
   ],
   "source": [
    "original_numbers = [1, 2, 3, 4, 5]\n",
    "squared_numbers = []\n",
    "for i in original_numbers:\n",
    "    squared_numbers.append(i**2)\n",
    "    \n",
    "squared_numbers"
   ]
  },
  {
   "cell_type": "markdown",
   "metadata": {},
   "source": [
    "However, with a comprehension, we can greatly simplify this."
   ]
  },
  {
   "cell_type": "code",
   "execution_count": 66,
   "metadata": {},
   "outputs": [
    {
     "data": {
      "text/plain": [
       "[1, 4, 9, 16, 25]"
      ]
     },
     "execution_count": 66,
     "metadata": {},
     "output_type": "execute_result"
    }
   ],
   "source": [
    "squared_numbers = [i**2 for i in original_numbers]\n",
    "squared_numbers"
   ]
  },
  {
   "cell_type": "markdown",
   "metadata": {},
   "source": [
    "The general syntax for a comprehension is `[`expression `for` element `in` iterable \\[`if` filter_condition\\] `]`. Let's see this in action."
   ]
  },
  {
   "cell_type": "code",
   "execution_count": 67,
   "metadata": {},
   "outputs": [
    {
     "data": {
      "text/plain": [
       "[1, 4, 7]"
      ]
     },
     "execution_count": 67,
     "metadata": {},
     "output_type": "execute_result"
    }
   ],
   "source": [
    "original_values = [(1, True), (2, False), (3, False), (4, True), (5, False), (7, True)]\n",
    "only_trues = []\n",
    "for i in original_values:\n",
    "    if i[1]:\n",
    "        only_trues.append(i[0])\n",
    "\n",
    "only_trues"
   ]
  },
  {
   "cell_type": "code",
   "execution_count": 68,
   "metadata": {},
   "outputs": [
    {
     "data": {
      "text/plain": [
       "[1, 4, 7]"
      ]
     },
     "execution_count": 68,
     "metadata": {},
     "output_type": "execute_result"
    }
   ],
   "source": [
    "only_trues = [\n",
    "    i[0]                      # what to do with the values from the old list\n",
    "    for i in original_values  # for-loop like syntax\n",
    "    if i[1]                   # filtering. \n",
    "]\n",
    "only_trues"
   ]
  },
  {
   "cell_type": "markdown",
   "metadata": {},
   "source": [
    "If we do not just want to filter, but instead do something else with the values that do not satisfy our filter condition, we can use a \n",
    "ternary expression."
   ]
  },
  {
   "cell_type": "code",
   "execution_count": 69,
   "metadata": {},
   "outputs": [
    {
     "data": {
      "text/plain": [
       "[1, 0, 0, 4, 0, 7]"
      ]
     },
     "execution_count": 69,
     "metadata": {},
     "output_type": "execute_result"
    }
   ],
   "source": [
    "only_trues_or_zero = [\n",
    "    i[0] if i[1] else 0       # what to do with the values from the old list\n",
    "    for i in original_values  # for-loop like syntax\n",
    "]\n",
    "only_trues_or_zero"
   ]
  },
  {
   "cell_type": "markdown",
   "metadata": {},
   "source": [
    "## Dictionary Comprehension"
   ]
  },
  {
   "cell_type": "code",
   "execution_count": 70,
   "metadata": {},
   "outputs": [
    {
     "data": {
      "text/plain": [
       "{1: 1, 2: 4, 3: 9, 4: 16, 5: 25}"
      ]
     },
     "execution_count": 70,
     "metadata": {},
     "output_type": "execute_result"
    }
   ],
   "source": [
    "numbers_and_their_squares = {num: num ** 2 for num in [1,2,3,4,5]}\n",
    "numbers_and_their_squares"
   ]
  },
  {
   "cell_type": "markdown",
   "metadata": {},
   "source": [
    "## Generator Comprehension\n",
    "Generator comprehension is a compact way to write down generators"
   ]
  },
  {
   "cell_type": "code",
   "execution_count": 71,
   "metadata": {},
   "outputs": [
    {
     "name": "stdout",
     "output_type": "stream",
     "text": [
      "<generator object <genexpr> at 0x7f17144b5390>\n",
      "1\n",
      "[2, 3, 4, 5, 6, 7, 8, 9]\n"
     ]
    }
   ],
   "source": [
    "a = (i for i in range(10))\n",
    "print(a) # it's a generator!\n",
    "next(a)\n",
    "print(next(a))\n",
    "print(list(a))"
   ]
  },
  {
   "cell_type": "markdown",
   "metadata": {},
   "source": [
    "# Strings and format-strings"
   ]
  },
  {
   "cell_type": "markdown",
   "metadata": {},
   "source": [
    "## some string-operations"
   ]
  },
  {
   "cell_type": "code",
   "execution_count": 72,
   "metadata": {},
   "outputs": [
    {
     "name": "stdout",
     "output_type": "stream",
     "text": [
      "['test', 'hello', 'world'] <class 'list'>\n"
     ]
    },
    {
     "data": {
      "text/plain": [
       "'test, hello, world'"
      ]
     },
     "execution_count": 72,
     "metadata": {},
     "output_type": "execute_result"
    }
   ],
   "source": [
    "# remove whitespaces at beginning and end\n",
    "s = \"   hello    \"\n",
    "new_s = s.strip()\n",
    "\n",
    "# split string in multiple parts (gives a list)\n",
    "s = \"test, hello, world\"\n",
    "splitted = s.split(', ')\n",
    "print(splitted, type(splitted))\n",
    "\n",
    "# create a string again by joining a list of partial strings\n",
    "', '.join(splitted) # -> \"test, hello, world\""
   ]
  },
  {
   "cell_type": "markdown",
   "metadata": {},
   "source": [
    "## Format-strings: version 1\n",
    "\n",
    "Standard format-strings are C-style. The `%`-operator formats a set of varaibles in a tuple together with a special format-strings. This syntax is still from Python 2 and there is no good reason to still use it today."
   ]
  },
  {
   "cell_type": "code",
   "execution_count": 73,
   "metadata": {},
   "outputs": [
    {
     "name": "stdout",
     "output_type": "stream",
     "text": [
      "An int: 15, a rounded float: 3.14, a string: string!\n"
     ]
    }
   ],
   "source": [
    "import math\n",
    "\n",
    "an_int = 15\n",
    "a_float = math.pi #3.141592653589793\n",
    "a_string = \"string!\"\n",
    "\n",
    "string = \"An int: %d, a rounded float: %.2f, a string: %s\" % (an_int, a_float, a_string)\n",
    "print(string)"
   ]
  },
  {
   "cell_type": "raw",
   "metadata": {},
   "source": [
    "%s - String (or any object with a string representation, like numbers)\n",
    "%d - Integers\n",
    "%f - Floating pboint numbers\n",
    "%.<number of digits>f - Floating point numbers with a fixed amount of digits to the right of the dot.\n",
    "%x/%X - Integers in hex representation (lowercase/uppercase)"
   ]
  },
  {
   "cell_type": "markdown",
   "metadata": {},
   "source": [
    "## Format-strings: version 2\n",
    "\n",
    "Python's native format()-method is far more powerful than the borrowed c-syntax. For a complete list of it's arguments, look at https://docs.python.org/3.4/library/string.html#formatspec. For a nice small overview, have a look at https://wiki.python.org/moin/FormatReference"
   ]
  },
  {
   "cell_type": "code",
   "execution_count": 74,
   "metadata": {},
   "outputs": [
    {
     "name": "stdout",
     "output_type": "stream",
     "text": [
      "aaron is 40 years old!\n",
      "berta is 20 years old!\n",
      "chris is 21 years old!\n"
     ]
    }
   ],
   "source": [
    "people = [\n",
    "    {'name': 'aaron', 'age': 40},\n",
    "    {'name': 'berta', 'age': 20},\n",
    "    {'name': 'chris', 'age': 21},\n",
    "]\n",
    "\n",
    "# the {} are placeholders and are filled with the arguments of format()\n",
    "for person in people:\n",
    "    print(\"{} is {} years old!\".format(person['name'], person['age']))"
   ]
  },
  {
   "cell_type": "markdown",
   "metadata": {},
   "source": [
    "The `{}` placeholders can be given names to make order irrelevant."
   ]
  },
  {
   "cell_type": "code",
   "execution_count": 75,
   "metadata": {},
   "outputs": [
    {
     "name": "stdout",
     "output_type": "stream",
     "text": [
      "aaron is 40 years old!\n",
      "berta is 20 years old!\n",
      "chris is 21 years old!\n"
     ]
    }
   ],
   "source": [
    "for person in people:\n",
    "    print(\"{name} is {age} years old!\".format(\n",
    "        age=person['age'],\n",
    "        name=person['name']))"
   ]
  },
  {
   "cell_type": "markdown",
   "metadata": {},
   "source": [
    "Names allow for neat dict-unpacking into the `format()` method."
   ]
  },
  {
   "cell_type": "code",
   "execution_count": 76,
   "metadata": {},
   "outputs": [
    {
     "name": "stdout",
     "output_type": "stream",
     "text": [
      "aaron is 40 years old!\n",
      "berta is 20 years old!\n",
      "chris is 21 years old!\n"
     ]
    }
   ],
   "source": [
    "for person in people:\n",
    "    print(\"{name} is {age} years old!\".format(**person))"
   ]
  },
  {
   "cell_type": "code",
   "execution_count": 77,
   "metadata": {},
   "outputs": [
    {
     "name": "stdout",
     "output_type": "stream",
     "text": [
      "      1.00\n",
      "     10.00\n",
      "    100.00\n",
      "   1000.00\n",
      "  10000.00\n"
     ]
    }
   ],
   "source": [
    "# format() allows for many many formatting options, such as justification and\n",
    "# conversion to decimal places etc...\n",
    "nums = [10**i for i in range(5)] # -> [1, 10, 100, 1000, 10000]\n",
    "\n",
    "for n in nums:\n",
    "    # >     right justified\n",
    "    # 10    10 characters long\n",
    "    # .2    show 2 decimal places\n",
    "    # f     display as floating point number\n",
    "    print(\"{:>10.2f}\".format(n))"
   ]
  },
  {
   "cell_type": "markdown",
   "metadata": {},
   "source": [
    "## Format-strings: version 3\n",
    "\n",
    "Since Python 3.6, there is nice super-easy way to produce formatted string literals: `fstrings`! `fstrings` are very readable and should be the preferred way to format strings, except if you need to do something very complex that requires `str.format`."
   ]
  },
  {
   "cell_type": "code",
   "execution_count": 78,
   "metadata": {},
   "outputs": [
    {
     "data": {
      "text/plain": [
       "'He said his name is Fred.'"
      ]
     },
     "execution_count": 78,
     "metadata": {},
     "output_type": "execute_result"
    }
   ],
   "source": [
    "name = \"Fred\"\n",
    "string = f\"He said his name is {name}.\"\n",
    "string"
   ]
  },
  {
   "cell_type": "code",
   "execution_count": 79,
   "metadata": {},
   "outputs": [
    {
     "data": {
      "text/plain": [
       "'12 + 16 = 28'"
      ]
     },
     "execution_count": 79,
     "metadata": {},
     "output_type": "execute_result"
    }
   ],
   "source": [
    "f\"12 + 16 = {12 + 16}\""
   ]
  },
  {
   "cell_type": "code",
   "execution_count": 80,
   "metadata": {},
   "outputs": [
    {
     "data": {
      "text/plain": [
       "'result:      12.35'"
      ]
     },
     "execution_count": 80,
     "metadata": {},
     "output_type": "execute_result"
    }
   ],
   "source": [
    "width = 10\n",
    "precision = 4\n",
    "value = 12.34567\n",
    "f\"result: {value:{width}.{precision}}\" "
   ]
  },
  {
   "cell_type": "code",
   "execution_count": null,
   "metadata": {},
   "outputs": [],
   "source": []
  }
 ],
 "metadata": {
  "kernelspec": {
   "display_name": "Python 3",
   "language": "python",
   "name": "python3"
  },
  "language_info": {
   "codemirror_mode": {
    "name": "ipython",
    "version": 3
   },
   "file_extension": ".py",
   "mimetype": "text/x-python",
   "name": "python",
   "nbconvert_exporter": "python",
   "pygments_lexer": "ipython3",
   "version": "3.7.3"
  },
  "toc-autonumbering": true,
  "toc-showcode": false,
  "toc-showmarkdowntxt": false
 },
 "nbformat": 4,
 "nbformat_minor": 2
}
